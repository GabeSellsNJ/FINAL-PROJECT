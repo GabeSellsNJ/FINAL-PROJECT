{
 "cells": [
  {
   "attachments": {},
   "cell_type": "markdown",
   "metadata": {},
   "source": [
    "<H1>INTRODUCTION</H1>\n",
    "Interconnect, a prominent telecom operator, is dedicated to enhancing customer satisfaction and retention. To achieve this goal, they seek to predict client churn proactively, allowing timely interventions and tailored solutions to retain valued customers. First, we will analyze a comprehensive dataset encompassing clients' plans, contracts, and other essential attributes. Then we will employ advanced machine learning techniques to build a predictive model. ROC-AUC will be the metric we use to gauge the effectiveness of our model. This model will empower Interconnect to forecast churn patterns, enabling them to implement personalized strategies and promotional offers to retain their clientele effectively. "
   ]
  },
  {
   "cell_type": "code",
   "execution_count": 2,
   "metadata": {},
   "outputs": [
    {
     "ename": "KeyboardInterrupt",
     "evalue": "",
     "output_type": "error",
     "traceback": [
      "\u001b[0;31m---------------------------------------------------------------------------\u001b[0m",
      "\u001b[0;31mKeyboardInterrupt\u001b[0m                         Traceback (most recent call last)",
      "\u001b[0;32m/var/folders/fm/s08r35qn1p14b7l9h6gn_z5h0000gn/T/ipykernel_50071/1520806844.py\u001b[0m in \u001b[0;36m<module>\u001b[0;34m\u001b[0m\n\u001b[1;32m      3\u001b[0m \u001b[0;32mimport\u001b[0m \u001b[0mpandas\u001b[0m \u001b[0;32mas\u001b[0m \u001b[0mpd\u001b[0m\u001b[0;34m\u001b[0m\u001b[0;34m\u001b[0m\u001b[0m\n\u001b[1;32m      4\u001b[0m \u001b[0;32mimport\u001b[0m \u001b[0mmatplotlib\u001b[0m\u001b[0;34m.\u001b[0m\u001b[0mpyplot\u001b[0m \u001b[0;32mas\u001b[0m \u001b[0mplt\u001b[0m\u001b[0;34m\u001b[0m\u001b[0;34m\u001b[0m\u001b[0m\n\u001b[0;32m----> 5\u001b[0;31m \u001b[0;32mimport\u001b[0m \u001b[0mseaborn\u001b[0m \u001b[0;32mas\u001b[0m \u001b[0msns\u001b[0m\u001b[0;34m\u001b[0m\u001b[0;34m\u001b[0m\u001b[0m\n\u001b[0m\u001b[1;32m      6\u001b[0m \u001b[0;32mfrom\u001b[0m \u001b[0msklearn\u001b[0m\u001b[0;34m.\u001b[0m\u001b[0mpreprocessing\u001b[0m \u001b[0;32mimport\u001b[0m \u001b[0mLabelEncoder\u001b[0m\u001b[0;34m\u001b[0m\u001b[0;34m\u001b[0m\u001b[0m\n\u001b[1;32m      7\u001b[0m \u001b[0;32mfrom\u001b[0m \u001b[0msklearn\u001b[0m\u001b[0;34m.\u001b[0m\u001b[0mmodel_selection\u001b[0m \u001b[0;32mimport\u001b[0m \u001b[0mtrain_test_split\u001b[0m\u001b[0;34m\u001b[0m\u001b[0;34m\u001b[0m\u001b[0m\n",
      "\u001b[0;32m~/opt/anaconda3/lib/python3.9/site-packages/seaborn/__init__.py\u001b[0m in \u001b[0;36m<module>\u001b[0;34m\u001b[0m\n\u001b[1;32m      1\u001b[0m \u001b[0;31m# Import seaborn objects\u001b[0m\u001b[0;34m\u001b[0m\u001b[0;34m\u001b[0m\u001b[0m\n\u001b[0;32m----> 2\u001b[0;31m \u001b[0;32mfrom\u001b[0m \u001b[0;34m.\u001b[0m\u001b[0mrcmod\u001b[0m \u001b[0;32mimport\u001b[0m \u001b[0;34m*\u001b[0m  \u001b[0;31m# noqa: F401,F403\u001b[0m\u001b[0;34m\u001b[0m\u001b[0;34m\u001b[0m\u001b[0m\n\u001b[0m\u001b[1;32m      3\u001b[0m \u001b[0;32mfrom\u001b[0m \u001b[0;34m.\u001b[0m\u001b[0mutils\u001b[0m \u001b[0;32mimport\u001b[0m \u001b[0;34m*\u001b[0m  \u001b[0;31m# noqa: F401,F403\u001b[0m\u001b[0;34m\u001b[0m\u001b[0;34m\u001b[0m\u001b[0m\n\u001b[1;32m      4\u001b[0m \u001b[0;32mfrom\u001b[0m \u001b[0;34m.\u001b[0m\u001b[0mpalettes\u001b[0m \u001b[0;32mimport\u001b[0m \u001b[0;34m*\u001b[0m  \u001b[0;31m# noqa: F401,F403\u001b[0m\u001b[0;34m\u001b[0m\u001b[0;34m\u001b[0m\u001b[0m\n\u001b[1;32m      5\u001b[0m \u001b[0;32mfrom\u001b[0m \u001b[0;34m.\u001b[0m\u001b[0mrelational\u001b[0m \u001b[0;32mimport\u001b[0m \u001b[0;34m*\u001b[0m  \u001b[0;31m# noqa: F401,F403\u001b[0m\u001b[0;34m\u001b[0m\u001b[0;34m\u001b[0m\u001b[0m\n",
      "\u001b[0;32m~/opt/anaconda3/lib/python3.9/site-packages/seaborn/rcmod.py\u001b[0m in \u001b[0;36m<module>\u001b[0;34m\u001b[0m\n\u001b[1;32m      5\u001b[0m \u001b[0;32mimport\u001b[0m \u001b[0mmatplotlib\u001b[0m \u001b[0;32mas\u001b[0m \u001b[0mmpl\u001b[0m\u001b[0;34m\u001b[0m\u001b[0;34m\u001b[0m\u001b[0m\n\u001b[1;32m      6\u001b[0m \u001b[0;32mfrom\u001b[0m \u001b[0mcycler\u001b[0m \u001b[0;32mimport\u001b[0m \u001b[0mcycler\u001b[0m\u001b[0;34m\u001b[0m\u001b[0;34m\u001b[0m\u001b[0m\n\u001b[0;32m----> 7\u001b[0;31m \u001b[0;32mfrom\u001b[0m \u001b[0;34m.\u001b[0m \u001b[0;32mimport\u001b[0m \u001b[0mpalettes\u001b[0m\u001b[0;34m\u001b[0m\u001b[0;34m\u001b[0m\u001b[0m\n\u001b[0m\u001b[1;32m      8\u001b[0m \u001b[0;34m\u001b[0m\u001b[0m\n\u001b[1;32m      9\u001b[0m \u001b[0;34m\u001b[0m\u001b[0m\n",
      "\u001b[0;32m~/opt/anaconda3/lib/python3.9/site-packages/seaborn/palettes.py\u001b[0m in \u001b[0;36m<module>\u001b[0;34m\u001b[0m\n\u001b[1;32m      7\u001b[0m \u001b[0;32mfrom\u001b[0m \u001b[0;34m.\u001b[0m\u001b[0mexternal\u001b[0m \u001b[0;32mimport\u001b[0m \u001b[0mhusl\u001b[0m\u001b[0;34m\u001b[0m\u001b[0;34m\u001b[0m\u001b[0m\n\u001b[1;32m      8\u001b[0m \u001b[0;34m\u001b[0m\u001b[0m\n\u001b[0;32m----> 9\u001b[0;31m \u001b[0;32mfrom\u001b[0m \u001b[0;34m.\u001b[0m\u001b[0mutils\u001b[0m \u001b[0;32mimport\u001b[0m \u001b[0mdesaturate\u001b[0m\u001b[0;34m,\u001b[0m \u001b[0mget_color_cycle\u001b[0m\u001b[0;34m\u001b[0m\u001b[0;34m\u001b[0m\u001b[0m\n\u001b[0m\u001b[1;32m     10\u001b[0m \u001b[0;32mfrom\u001b[0m \u001b[0;34m.\u001b[0m\u001b[0mcolors\u001b[0m \u001b[0;32mimport\u001b[0m \u001b[0mxkcd_rgb\u001b[0m\u001b[0;34m,\u001b[0m \u001b[0mcrayons\u001b[0m\u001b[0;34m\u001b[0m\u001b[0;34m\u001b[0m\u001b[0m\n\u001b[1;32m     11\u001b[0m \u001b[0;34m\u001b[0m\u001b[0m\n",
      "\u001b[0;32m~/opt/anaconda3/lib/python3.9/site-packages/seaborn/utils.py\u001b[0m in \u001b[0;36m<module>\u001b[0;34m\u001b[0m\n\u001b[1;32m      8\u001b[0m \u001b[0;34m\u001b[0m\u001b[0m\n\u001b[1;32m      9\u001b[0m \u001b[0;32mimport\u001b[0m \u001b[0mnumpy\u001b[0m \u001b[0;32mas\u001b[0m \u001b[0mnp\u001b[0m\u001b[0;34m\u001b[0m\u001b[0;34m\u001b[0m\u001b[0m\n\u001b[0;32m---> 10\u001b[0;31m \u001b[0;32mfrom\u001b[0m \u001b[0mscipy\u001b[0m \u001b[0;32mimport\u001b[0m \u001b[0mstats\u001b[0m\u001b[0;34m\u001b[0m\u001b[0;34m\u001b[0m\u001b[0m\n\u001b[0m\u001b[1;32m     11\u001b[0m \u001b[0;32mimport\u001b[0m \u001b[0mpandas\u001b[0m \u001b[0;32mas\u001b[0m \u001b[0mpd\u001b[0m\u001b[0;34m\u001b[0m\u001b[0;34m\u001b[0m\u001b[0m\n\u001b[1;32m     12\u001b[0m \u001b[0;32mimport\u001b[0m \u001b[0mmatplotlib\u001b[0m \u001b[0;32mas\u001b[0m \u001b[0mmpl\u001b[0m\u001b[0;34m\u001b[0m\u001b[0;34m\u001b[0m\u001b[0m\n",
      "\u001b[0;32m~/opt/anaconda3/lib/python3.9/importlib/_bootstrap.py\u001b[0m in \u001b[0;36m_handle_fromlist\u001b[0;34m(module, fromlist, import_, recursive)\u001b[0m\n",
      "\u001b[0;32m~/opt/anaconda3/lib/python3.9/site-packages/scipy/__init__.py\u001b[0m in \u001b[0;36m__getattr__\u001b[0;34m(name)\u001b[0m\n\u001b[1;32m    209\u001b[0m     \u001b[0;32mdef\u001b[0m \u001b[0m__getattr__\u001b[0m\u001b[0;34m(\u001b[0m\u001b[0mname\u001b[0m\u001b[0;34m)\u001b[0m\u001b[0;34m:\u001b[0m\u001b[0;34m\u001b[0m\u001b[0;34m\u001b[0m\u001b[0m\n\u001b[1;32m    210\u001b[0m         \u001b[0;32mif\u001b[0m \u001b[0mname\u001b[0m \u001b[0;32min\u001b[0m \u001b[0msubmodules\u001b[0m\u001b[0;34m:\u001b[0m\u001b[0;34m\u001b[0m\u001b[0;34m\u001b[0m\u001b[0m\n\u001b[0;32m--> 211\u001b[0;31m             \u001b[0;32mreturn\u001b[0m \u001b[0m_importlib\u001b[0m\u001b[0;34m.\u001b[0m\u001b[0mimport_module\u001b[0m\u001b[0;34m(\u001b[0m\u001b[0;34mf'scipy.{name}'\u001b[0m\u001b[0;34m)\u001b[0m\u001b[0;34m\u001b[0m\u001b[0;34m\u001b[0m\u001b[0m\n\u001b[0m\u001b[1;32m    212\u001b[0m         \u001b[0;32melse\u001b[0m\u001b[0;34m:\u001b[0m\u001b[0;34m\u001b[0m\u001b[0;34m\u001b[0m\u001b[0m\n\u001b[1;32m    213\u001b[0m             \u001b[0;32mtry\u001b[0m\u001b[0;34m:\u001b[0m\u001b[0;34m\u001b[0m\u001b[0;34m\u001b[0m\u001b[0m\n",
      "\u001b[0;32m~/opt/anaconda3/lib/python3.9/importlib/__init__.py\u001b[0m in \u001b[0;36mimport_module\u001b[0;34m(name, package)\u001b[0m\n\u001b[1;32m    125\u001b[0m                 \u001b[0;32mbreak\u001b[0m\u001b[0;34m\u001b[0m\u001b[0;34m\u001b[0m\u001b[0m\n\u001b[1;32m    126\u001b[0m             \u001b[0mlevel\u001b[0m \u001b[0;34m+=\u001b[0m \u001b[0;36m1\u001b[0m\u001b[0;34m\u001b[0m\u001b[0;34m\u001b[0m\u001b[0m\n\u001b[0;32m--> 127\u001b[0;31m     \u001b[0;32mreturn\u001b[0m \u001b[0m_bootstrap\u001b[0m\u001b[0;34m.\u001b[0m\u001b[0m_gcd_import\u001b[0m\u001b[0;34m(\u001b[0m\u001b[0mname\u001b[0m\u001b[0;34m[\u001b[0m\u001b[0mlevel\u001b[0m\u001b[0;34m:\u001b[0m\u001b[0;34m]\u001b[0m\u001b[0;34m,\u001b[0m \u001b[0mpackage\u001b[0m\u001b[0;34m,\u001b[0m \u001b[0mlevel\u001b[0m\u001b[0;34m)\u001b[0m\u001b[0;34m\u001b[0m\u001b[0;34m\u001b[0m\u001b[0m\n\u001b[0m\u001b[1;32m    128\u001b[0m \u001b[0;34m\u001b[0m\u001b[0m\n\u001b[1;32m    129\u001b[0m \u001b[0;34m\u001b[0m\u001b[0m\n",
      "\u001b[0;32m~/opt/anaconda3/lib/python3.9/site-packages/scipy/stats/__init__.py\u001b[0m in \u001b[0;36m<module>\u001b[0;34m\u001b[0m\n\u001b[1;32m    465\u001b[0m from ._warnings_errors import (ConstantInputWarning, NearConstantInputWarning,\n\u001b[1;32m    466\u001b[0m                                DegenerateDataWarning, FitError)\n\u001b[0;32m--> 467\u001b[0;31m \u001b[0;32mfrom\u001b[0m \u001b[0;34m.\u001b[0m\u001b[0m_stats_py\u001b[0m \u001b[0;32mimport\u001b[0m \u001b[0;34m*\u001b[0m\u001b[0;34m\u001b[0m\u001b[0;34m\u001b[0m\u001b[0m\n\u001b[0m\u001b[1;32m    468\u001b[0m \u001b[0;32mfrom\u001b[0m \u001b[0;34m.\u001b[0m\u001b[0m_variation\u001b[0m \u001b[0;32mimport\u001b[0m \u001b[0mvariation\u001b[0m\u001b[0;34m\u001b[0m\u001b[0;34m\u001b[0m\u001b[0m\n\u001b[1;32m    469\u001b[0m \u001b[0;32mfrom\u001b[0m \u001b[0;34m.\u001b[0m\u001b[0mdistributions\u001b[0m \u001b[0;32mimport\u001b[0m \u001b[0;34m*\u001b[0m\u001b[0;34m\u001b[0m\u001b[0;34m\u001b[0m\u001b[0m\n",
      "\u001b[0;32m~/opt/anaconda3/lib/python3.9/site-packages/scipy/stats/_stats_py.py\u001b[0m in \u001b[0;36m<module>\u001b[0;34m\u001b[0m\n\u001b[1;32m     37\u001b[0m \u001b[0;32mfrom\u001b[0m \u001b[0mnumpy\u001b[0m\u001b[0;34m.\u001b[0m\u001b[0mtesting\u001b[0m \u001b[0;32mimport\u001b[0m \u001b[0msuppress_warnings\u001b[0m\u001b[0;34m\u001b[0m\u001b[0;34m\u001b[0m\u001b[0m\n\u001b[1;32m     38\u001b[0m \u001b[0;34m\u001b[0m\u001b[0m\n\u001b[0;32m---> 39\u001b[0;31m \u001b[0;32mfrom\u001b[0m \u001b[0mscipy\u001b[0m\u001b[0;34m.\u001b[0m\u001b[0mspatial\u001b[0m\u001b[0;34m.\u001b[0m\u001b[0mdistance\u001b[0m \u001b[0;32mimport\u001b[0m \u001b[0mcdist\u001b[0m\u001b[0;34m\u001b[0m\u001b[0;34m\u001b[0m\u001b[0m\n\u001b[0m\u001b[1;32m     40\u001b[0m \u001b[0;32mfrom\u001b[0m \u001b[0mscipy\u001b[0m\u001b[0;34m.\u001b[0m\u001b[0mndimage\u001b[0m \u001b[0;32mimport\u001b[0m \u001b[0m_measurements\u001b[0m\u001b[0;34m\u001b[0m\u001b[0;34m\u001b[0m\u001b[0m\n\u001b[1;32m     41\u001b[0m from scipy._lib._util import (check_random_state, MapWrapper,\n",
      "\u001b[0;32m~/opt/anaconda3/lib/python3.9/site-packages/scipy/spatial/__init__.py\u001b[0m in \u001b[0;36m<module>\u001b[0;34m\u001b[0m\n\u001b[1;32m    109\u001b[0m \u001b[0;32mfrom\u001b[0m \u001b[0;34m.\u001b[0m\u001b[0m_plotutils\u001b[0m \u001b[0;32mimport\u001b[0m \u001b[0;34m*\u001b[0m\u001b[0;34m\u001b[0m\u001b[0;34m\u001b[0m\u001b[0m\n\u001b[1;32m    110\u001b[0m \u001b[0;32mfrom\u001b[0m \u001b[0;34m.\u001b[0m\u001b[0m_procrustes\u001b[0m \u001b[0;32mimport\u001b[0m \u001b[0mprocrustes\u001b[0m\u001b[0;34m\u001b[0m\u001b[0;34m\u001b[0m\u001b[0m\n\u001b[0;32m--> 111\u001b[0;31m \u001b[0;32mfrom\u001b[0m \u001b[0;34m.\u001b[0m\u001b[0m_geometric_slerp\u001b[0m \u001b[0;32mimport\u001b[0m \u001b[0mgeometric_slerp\u001b[0m\u001b[0;34m\u001b[0m\u001b[0;34m\u001b[0m\u001b[0m\n\u001b[0m\u001b[1;32m    112\u001b[0m \u001b[0;34m\u001b[0m\u001b[0m\n\u001b[1;32m    113\u001b[0m \u001b[0;31m# Deprecated namespaces, to be removed in v2.0.0\u001b[0m\u001b[0;34m\u001b[0m\u001b[0;34m\u001b[0m\u001b[0m\n",
      "\u001b[0;32m~/opt/anaconda3/lib/python3.9/site-packages/scipy/spatial/_geometric_slerp.py\u001b[0m in \u001b[0;36m<module>\u001b[0;34m\u001b[0m\n\u001b[1;32m      7\u001b[0m \u001b[0;34m\u001b[0m\u001b[0m\n\u001b[1;32m      8\u001b[0m \u001b[0;32mimport\u001b[0m \u001b[0mnumpy\u001b[0m \u001b[0;32mas\u001b[0m \u001b[0mnp\u001b[0m\u001b[0;34m\u001b[0m\u001b[0;34m\u001b[0m\u001b[0m\n\u001b[0;32m----> 9\u001b[0;31m \u001b[0;32mfrom\u001b[0m \u001b[0mscipy\u001b[0m\u001b[0;34m.\u001b[0m\u001b[0mspatial\u001b[0m\u001b[0;34m.\u001b[0m\u001b[0mdistance\u001b[0m \u001b[0;32mimport\u001b[0m \u001b[0meuclidean\u001b[0m\u001b[0;34m\u001b[0m\u001b[0;34m\u001b[0m\u001b[0m\n\u001b[0m\u001b[1;32m     10\u001b[0m \u001b[0;34m\u001b[0m\u001b[0m\n\u001b[1;32m     11\u001b[0m \u001b[0;32mif\u001b[0m \u001b[0mTYPE_CHECKING\u001b[0m\u001b[0;34m:\u001b[0m\u001b[0;34m\u001b[0m\u001b[0;34m\u001b[0m\u001b[0m\n",
      "\u001b[0;32m~/opt/anaconda3/lib/python3.9/site-packages/scipy/spatial/distance.py\u001b[0m in \u001b[0;36m<module>\u001b[0;34m\u001b[0m\n\u001b[1;32m   1687\u001b[0m \u001b[0;34m\u001b[0m\u001b[0m\n\u001b[1;32m   1688\u001b[0m \u001b[0;34m@\u001b[0m\u001b[0mdataclasses\u001b[0m\u001b[0;34m.\u001b[0m\u001b[0mdataclass\u001b[0m\u001b[0;34m(\u001b[0m\u001b[0mfrozen\u001b[0m\u001b[0;34m=\u001b[0m\u001b[0;32mTrue\u001b[0m\u001b[0;34m)\u001b[0m\u001b[0;34m\u001b[0m\u001b[0;34m\u001b[0m\u001b[0m\n\u001b[0;32m-> 1689\u001b[0;31m \u001b[0;32mclass\u001b[0m \u001b[0mPDistMetricWrapper\u001b[0m\u001b[0;34m:\u001b[0m\u001b[0;34m\u001b[0m\u001b[0;34m\u001b[0m\u001b[0m\n\u001b[0m\u001b[1;32m   1690\u001b[0m     \u001b[0mmetric_name\u001b[0m\u001b[0;34m:\u001b[0m \u001b[0mstr\u001b[0m\u001b[0;34m\u001b[0m\u001b[0;34m\u001b[0m\u001b[0m\n\u001b[1;32m   1691\u001b[0m \u001b[0;34m\u001b[0m\u001b[0m\n",
      "\u001b[0;32m~/opt/anaconda3/lib/python3.9/dataclasses.py\u001b[0m in \u001b[0;36mwrap\u001b[0;34m(cls)\u001b[0m\n\u001b[1;32m   1011\u001b[0m \u001b[0;34m\u001b[0m\u001b[0m\n\u001b[1;32m   1012\u001b[0m     \u001b[0;32mdef\u001b[0m \u001b[0mwrap\u001b[0m\u001b[0;34m(\u001b[0m\u001b[0mcls\u001b[0m\u001b[0;34m)\u001b[0m\u001b[0;34m:\u001b[0m\u001b[0;34m\u001b[0m\u001b[0;34m\u001b[0m\u001b[0m\n\u001b[0;32m-> 1013\u001b[0;31m         \u001b[0;32mreturn\u001b[0m \u001b[0m_process_class\u001b[0m\u001b[0;34m(\u001b[0m\u001b[0mcls\u001b[0m\u001b[0;34m,\u001b[0m \u001b[0minit\u001b[0m\u001b[0;34m,\u001b[0m \u001b[0mrepr\u001b[0m\u001b[0;34m,\u001b[0m \u001b[0meq\u001b[0m\u001b[0;34m,\u001b[0m \u001b[0morder\u001b[0m\u001b[0;34m,\u001b[0m \u001b[0munsafe_hash\u001b[0m\u001b[0;34m,\u001b[0m \u001b[0mfrozen\u001b[0m\u001b[0;34m)\u001b[0m\u001b[0;34m\u001b[0m\u001b[0;34m\u001b[0m\u001b[0m\n\u001b[0m\u001b[1;32m   1014\u001b[0m \u001b[0;34m\u001b[0m\u001b[0m\n\u001b[1;32m   1015\u001b[0m     \u001b[0;31m# See if we're being called as @dataclass or @dataclass().\u001b[0m\u001b[0;34m\u001b[0m\u001b[0;34m\u001b[0m\u001b[0m\n",
      "\u001b[0;32m~/opt/anaconda3/lib/python3.9/dataclasses.py\u001b[0m in \u001b[0;36m_process_class\u001b[0;34m(cls, init, repr, eq, order, unsafe_hash, frozen)\u001b[0m\n\u001b[1;32m    991\u001b[0m         \u001b[0;31m# Create a class doc-string.\u001b[0m\u001b[0;34m\u001b[0m\u001b[0;34m\u001b[0m\u001b[0m\n\u001b[1;32m    992\u001b[0m         cls.__doc__ = (cls.__name__ +\n\u001b[0;32m--> 993\u001b[0;31m                        str(inspect.signature(cls)).replace(' -> None', ''))\n\u001b[0m\u001b[1;32m    994\u001b[0m \u001b[0;34m\u001b[0m\u001b[0m\n\u001b[1;32m    995\u001b[0m     \u001b[0;32mreturn\u001b[0m \u001b[0mcls\u001b[0m\u001b[0;34m\u001b[0m\u001b[0;34m\u001b[0m\u001b[0m\n",
      "\u001b[0;32m~/opt/anaconda3/lib/python3.9/inspect.py\u001b[0m in \u001b[0;36msignature\u001b[0;34m(obj, follow_wrapped)\u001b[0m\n\u001b[1;32m   3111\u001b[0m \u001b[0;32mdef\u001b[0m \u001b[0msignature\u001b[0m\u001b[0;34m(\u001b[0m\u001b[0mobj\u001b[0m\u001b[0;34m,\u001b[0m \u001b[0;34m*\u001b[0m\u001b[0;34m,\u001b[0m \u001b[0mfollow_wrapped\u001b[0m\u001b[0;34m=\u001b[0m\u001b[0;32mTrue\u001b[0m\u001b[0;34m)\u001b[0m\u001b[0;34m:\u001b[0m\u001b[0;34m\u001b[0m\u001b[0;34m\u001b[0m\u001b[0m\n\u001b[1;32m   3112\u001b[0m     \u001b[0;34m\"\"\"Get a signature object for the passed callable.\"\"\"\u001b[0m\u001b[0;34m\u001b[0m\u001b[0;34m\u001b[0m\u001b[0m\n\u001b[0;32m-> 3113\u001b[0;31m     \u001b[0;32mreturn\u001b[0m \u001b[0mSignature\u001b[0m\u001b[0;34m.\u001b[0m\u001b[0mfrom_callable\u001b[0m\u001b[0;34m(\u001b[0m\u001b[0mobj\u001b[0m\u001b[0;34m,\u001b[0m \u001b[0mfollow_wrapped\u001b[0m\u001b[0;34m=\u001b[0m\u001b[0mfollow_wrapped\u001b[0m\u001b[0;34m)\u001b[0m\u001b[0;34m\u001b[0m\u001b[0;34m\u001b[0m\u001b[0m\n\u001b[0m\u001b[1;32m   3114\u001b[0m \u001b[0;34m\u001b[0m\u001b[0m\n\u001b[1;32m   3115\u001b[0m \u001b[0;34m\u001b[0m\u001b[0m\n",
      "\u001b[0;31mKeyboardInterrupt\u001b[0m: "
     ]
    }
   ],
   "source": [
    "#import neccessary packages\n",
    "\n",
    "import pandas as pd\n",
    "import matplotlib.pyplot as plt\n",
    "import seaborn as sns\n",
    "from sklearn.preprocessing import LabelEncoder\n",
    "from sklearn.model_selection import train_test_split\n",
    "from sklearn.linear_model import LogisticRegression\n",
    "from sklearn.metrics import roc_auc_score\n",
    "from sklearn.preprocessing import MinMaxScaler\n",
    "from sklearn.preprocessing import StandardScaler\n",
    "from sklearn.ensemble import GradientBoostingClassifier"
   ]
  },
  {
   "cell_type": "code",
   "execution_count": 6,
   "metadata": {},
   "outputs": [],
   "source": [
    "#download data as dataframes\n",
    "import pandas as pd\n",
    "\n",
    "contract = pd.read_csv('contract.csv')\n",
    "client_data = pd.read_csv('personal.csv')\n",
    "internet = pd.read_csv('internet.csv')\n",
    "phone = pd.read_csv('phone.csv')"
   ]
  },
  {
   "attachments": {},
   "cell_type": "markdown",
   "metadata": {},
   "source": [
    "<h1>A) Exploratory Data Analysis and Feature Engineering</h1>"
   ]
  },
  {
   "attachments": {},
   "cell_type": "markdown",
   "metadata": {},
   "source": [
    "<h2>Contract</h2>"
   ]
  },
  {
   "cell_type": "code",
   "execution_count": 29,
   "metadata": {
    "scrolled": false
   },
   "outputs": [
    {
     "name": "stdout",
     "output_type": "stream",
     "text": [
      "<class 'pandas.core.frame.DataFrame'>\n",
      "RangeIndex: 7043 entries, 0 to 7042\n",
      "Data columns (total 8 columns):\n",
      " #   Column            Non-Null Count  Dtype  \n",
      "---  ------            --------------  -----  \n",
      " 0   customerID        7043 non-null   object \n",
      " 1   BeginDate         7043 non-null   object \n",
      " 2   EndDate           7043 non-null   object \n",
      " 3   Type              7043 non-null   object \n",
      " 4   PaperlessBilling  7043 non-null   object \n",
      " 5   PaymentMethod     7043 non-null   object \n",
      " 6   MonthlyCharges    7043 non-null   float64\n",
      " 7   TotalCharges      7043 non-null   object \n",
      "dtypes: float64(1), object(7)\n",
      "memory usage: 440.3+ KB\n",
      "None\n",
      "   customerID   BeginDate              EndDate            Type  \\\n",
      "0  7590-VHVEG  2020-01-01                   No  Month-to-month   \n",
      "1  5575-GNVDE  2017-04-01                   No        One year   \n",
      "2  3668-QPYBK  2019-10-01  2019-12-01 00:00:00  Month-to-month   \n",
      "3  7795-CFOCW  2016-05-01                   No        One year   \n",
      "4  9237-HQITU  2019-09-01  2019-11-01 00:00:00  Month-to-month   \n",
      "\n",
      "  PaperlessBilling              PaymentMethod  MonthlyCharges TotalCharges  \n",
      "0              Yes           Electronic check           29.85        29.85  \n",
      "1               No               Mailed check           56.95       1889.5  \n",
      "2              Yes               Mailed check           53.85       108.15  \n",
      "3               No  Bank transfer (automatic)           42.30      1840.75  \n",
      "4              Yes           Electronic check           70.70       151.65  \n"
     ]
    }
   ],
   "source": [
    "print(contract.info())\n",
    "print(contract.head())"
   ]
  },
  {
   "attachments": {},
   "cell_type": "markdown",
   "metadata": {},
   "source": [
    "<p style=\"color:blue\">1) Seems there isn't any missing data. However, there are columns in which its data type must be converted (BeginDate and TotalCharges)<br>\n",
    "2) Create a new column called churn based off the data in EndDate.<br>\n",
    "3) Create a new column to see how long someone has been a member since 2020-02-01 (in days)</p>"
   ]
  },
  {
   "cell_type": "code",
   "execution_count": 30,
   "metadata": {},
   "outputs": [],
   "source": [
    "# Convert the 'BeginDate' column to datetime\n",
    "contract['BeginDate'] = pd.to_datetime(contract['BeginDate'], format='%Y-%m-%d')\n",
    "\n",
    "# Convert the 'TotalCharges' column to float\n",
    "contract['TotalCharges'] = pd.to_numeric(contract['TotalCharges'], errors='coerce')\n"
   ]
  },
  {
   "cell_type": "code",
   "execution_count": 31,
   "metadata": {},
   "outputs": [],
   "source": [
    "# Create the 'churn' column based on the 'EndDate' values\n",
    "# 0 represents client has not churned and 1 represents client has disconnected service\n",
    "contract['churn'] = contract['EndDate'].apply(lambda x: 0 if x == \"No\" else 1)\n"
   ]
  },
  {
   "cell_type": "code",
   "execution_count": 32,
   "metadata": {},
   "outputs": [],
   "source": [
    "# the specific date\n",
    "specific_date = pd.to_datetime('2020-02-01')\n",
    "\n",
    "#Calculate the number of days as a member and place it in a new column\n",
    "contract['days_as_a_member'] = (specific_date - contract['BeginDate']).dt.days\n",
    "\n",
    "# Now the 'days_as_a_member' column contains the number of days from each record to '2020-02-01'."
   ]
  },
  {
   "cell_type": "code",
   "execution_count": 33,
   "metadata": {},
   "outputs": [
    {
     "name": "stdout",
     "output_type": "stream",
     "text": [
      "<class 'pandas.core.frame.DataFrame'>\n",
      "RangeIndex: 7043 entries, 0 to 7042\n",
      "Data columns (total 10 columns):\n",
      " #   Column            Non-Null Count  Dtype         \n",
      "---  ------            --------------  -----         \n",
      " 0   customerID        7043 non-null   object        \n",
      " 1   BeginDate         7043 non-null   datetime64[ns]\n",
      " 2   EndDate           7043 non-null   object        \n",
      " 3   Type              7043 non-null   object        \n",
      " 4   PaperlessBilling  7043 non-null   object        \n",
      " 5   PaymentMethod     7043 non-null   object        \n",
      " 6   MonthlyCharges    7043 non-null   float64       \n",
      " 7   TotalCharges      7032 non-null   float64       \n",
      " 8   churn             7043 non-null   int64         \n",
      " 9   days_as_a_member  7043 non-null   int64         \n",
      "dtypes: datetime64[ns](1), float64(2), int64(2), object(5)\n",
      "memory usage: 550.4+ KB\n",
      "None\n",
      "      customerID  BeginDate              EndDate            Type  \\\n",
      "0     7590-VHVEG 2020-01-01                   No  Month-to-month   \n",
      "1     5575-GNVDE 2017-04-01                   No        One year   \n",
      "2     3668-QPYBK 2019-10-01  2019-12-01 00:00:00  Month-to-month   \n",
      "3     7795-CFOCW 2016-05-01                   No        One year   \n",
      "4     9237-HQITU 2019-09-01  2019-11-01 00:00:00  Month-to-month   \n",
      "...          ...        ...                  ...             ...   \n",
      "7038  6840-RESVB 2018-02-01                   No        One year   \n",
      "7039  2234-XADUH 2014-02-01                   No        One year   \n",
      "7040  4801-JZAZL 2019-03-01                   No  Month-to-month   \n",
      "7041  8361-LTMKD 2019-07-01  2019-11-01 00:00:00  Month-to-month   \n",
      "7042  3186-AJIEK 2014-08-01                   No        Two year   \n",
      "\n",
      "     PaperlessBilling              PaymentMethod  MonthlyCharges  \\\n",
      "0                 Yes           Electronic check           29.85   \n",
      "1                  No               Mailed check           56.95   \n",
      "2                 Yes               Mailed check           53.85   \n",
      "3                  No  Bank transfer (automatic)           42.30   \n",
      "4                 Yes           Electronic check           70.70   \n",
      "...               ...                        ...             ...   \n",
      "7038              Yes               Mailed check           84.80   \n",
      "7039              Yes    Credit card (automatic)          103.20   \n",
      "7040              Yes           Electronic check           29.60   \n",
      "7041              Yes               Mailed check           74.40   \n",
      "7042              Yes  Bank transfer (automatic)          105.65   \n",
      "\n",
      "      TotalCharges  churn  days_as_a_member  \n",
      "0            29.85      0                31  \n",
      "1          1889.50      0              1036  \n",
      "2           108.15      1               123  \n",
      "3          1840.75      0              1371  \n",
      "4           151.65      1               153  \n",
      "...            ...    ...               ...  \n",
      "7038       1990.50      0               730  \n",
      "7039       7362.90      0              2191  \n",
      "7040        346.45      0               337  \n",
      "7041        306.60      1               215  \n",
      "7042       6844.50      0              2010  \n",
      "\n",
      "[7043 rows x 10 columns]\n"
     ]
    }
   ],
   "source": [
    "print(contract.info())\n",
    "print(contract)\n"
   ]
  },
  {
   "attachments": {},
   "cell_type": "markdown",
   "metadata": {},
   "source": [
    "<p style=\"color:red\">There were were non-numerical values in TotalCharges. We will drop those rows later.</p>"
   ]
  },
  {
   "cell_type": "code",
   "execution_count": 34,
   "metadata": {},
   "outputs": [],
   "source": [
    "# Replace NaN values with 0\n",
    "contract['TotalCharges'].fillna(0, inplace=True)"
   ]
  },
  {
   "attachments": {},
   "cell_type": "markdown",
   "metadata": {},
   "source": [
    "#Drop BeginDate\n",
    "merged_data_final = merged_data_final.drop(['BeginDate'], axis=1)"
   ]
  },
  {
   "attachments": {},
   "cell_type": "markdown",
   "metadata": {},
   "source": [
    "<h2>Personal (client_data)</h2>"
   ]
  },
  {
   "cell_type": "code",
   "execution_count": 35,
   "metadata": {},
   "outputs": [
    {
     "name": "stdout",
     "output_type": "stream",
     "text": [
      "<class 'pandas.core.frame.DataFrame'>\n",
      "RangeIndex: 7043 entries, 0 to 7042\n",
      "Data columns (total 5 columns):\n",
      " #   Column         Non-Null Count  Dtype \n",
      "---  ------         --------------  ----- \n",
      " 0   customerID     7043 non-null   object\n",
      " 1   gender         7043 non-null   object\n",
      " 2   SeniorCitizen  7043 non-null   int64 \n",
      " 3   Partner        7043 non-null   object\n",
      " 4   Dependents     7043 non-null   object\n",
      "dtypes: int64(1), object(4)\n",
      "memory usage: 275.2+ KB\n",
      "None\n",
      "   customerID  gender  SeniorCitizen Partner Dependents\n",
      "0  7590-VHVEG  Female              0     Yes         No\n",
      "1  5575-GNVDE    Male              0      No         No\n",
      "2  3668-QPYBK    Male              0      No         No\n",
      "3  7795-CFOCW    Male              0      No         No\n",
      "4  9237-HQITU  Female              0      No         No\n"
     ]
    }
   ],
   "source": [
    "print(client_data.info())\n",
    "print(client_data.head())"
   ]
  },
  {
   "attachments": {},
   "cell_type": "markdown",
   "metadata": {},
   "source": [
    "<p style=\"color:blue\">All this personal information doesn't seem relelvant or as important as other information. More data does not always equal better results; it can hurt our model. Hence, we will not work this data.</p>"
   ]
  },
  {
   "attachments": {},
   "cell_type": "markdown",
   "metadata": {},
   "source": [
    "<h2>Internet</h2>"
   ]
  },
  {
   "cell_type": "code",
   "execution_count": 36,
   "metadata": {},
   "outputs": [
    {
     "name": "stdout",
     "output_type": "stream",
     "text": [
      "<class 'pandas.core.frame.DataFrame'>\n",
      "RangeIndex: 5517 entries, 0 to 5516\n",
      "Data columns (total 8 columns):\n",
      " #   Column            Non-Null Count  Dtype \n",
      "---  ------            --------------  ----- \n",
      " 0   customerID        5517 non-null   object\n",
      " 1   InternetService   5517 non-null   object\n",
      " 2   OnlineSecurity    5517 non-null   object\n",
      " 3   OnlineBackup      5517 non-null   object\n",
      " 4   DeviceProtection  5517 non-null   object\n",
      " 5   TechSupport       5517 non-null   object\n",
      " 6   StreamingTV       5517 non-null   object\n",
      " 7   StreamingMovies   5517 non-null   object\n",
      "dtypes: object(8)\n",
      "memory usage: 344.9+ KB\n",
      "None\n",
      "   customerID InternetService OnlineSecurity OnlineBackup DeviceProtection  \\\n",
      "0  7590-VHVEG             DSL             No          Yes               No   \n",
      "1  5575-GNVDE             DSL            Yes           No              Yes   \n",
      "2  3668-QPYBK             DSL            Yes          Yes               No   \n",
      "3  7795-CFOCW             DSL            Yes           No              Yes   \n",
      "4  9237-HQITU     Fiber optic             No           No               No   \n",
      "\n",
      "  TechSupport StreamingTV StreamingMovies  \n",
      "0          No          No              No  \n",
      "1          No          No              No  \n",
      "2          No          No              No  \n",
      "3         Yes          No              No  \n",
      "4          No          No              No  \n"
     ]
    }
   ],
   "source": [
    "print(internet.info())\n",
    "print(internet.head())"
   ]
  },
  {
   "attachments": {},
   "cell_type": "markdown",
   "metadata": {},
   "source": [
    "<p style=\"color:blue\">Only information relevant is that the customer HAS AN INTERNET PLAN IN THE FIRST PLACE. The additional services chosen aren't relevant. This would be reflected in the total monthly price regardless. As more add-ons would result in a higher monthly price.</p>"
   ]
  },
  {
   "cell_type": "code",
   "execution_count": 37,
   "metadata": {},
   "outputs": [
    {
     "name": "stdout",
     "output_type": "stream",
     "text": [
      "      customerID  has_internet\n",
      "0     7590-VHVEG             1\n",
      "1     5575-GNVDE             1\n",
      "2     3668-QPYBK             1\n",
      "3     7795-CFOCW             1\n",
      "4     9237-HQITU             1\n",
      "...          ...           ...\n",
      "5512  6840-RESVB             1\n",
      "5513  2234-XADUH             1\n",
      "5514  4801-JZAZL             1\n",
      "5515  8361-LTMKD             1\n",
      "5516  3186-AJIEK             1\n",
      "\n",
      "[5517 rows x 2 columns]\n"
     ]
    }
   ],
   "source": [
    "# Drop all columns except the first one\n",
    "internet = internet.iloc[:, [0]]\n",
    "\n",
    "# Add a new column named \"has_internet\" with a value of 1 for every row\n",
    "internet['has_internet'] = 1\n",
    "\n",
    "print(internet)"
   ]
  },
  {
   "attachments": {},
   "cell_type": "markdown",
   "metadata": {},
   "source": [
    "<h2>Phone</h2>"
   ]
  },
  {
   "cell_type": "code",
   "execution_count": 38,
   "metadata": {},
   "outputs": [
    {
     "name": "stdout",
     "output_type": "stream",
     "text": [
      "<class 'pandas.core.frame.DataFrame'>\n",
      "RangeIndex: 6361 entries, 0 to 6360\n",
      "Data columns (total 2 columns):\n",
      " #   Column         Non-Null Count  Dtype \n",
      "---  ------         --------------  ----- \n",
      " 0   customerID     6361 non-null   object\n",
      " 1   MultipleLines  6361 non-null   object\n",
      "dtypes: object(2)\n",
      "memory usage: 99.5+ KB\n",
      "None\n",
      "   customerID MultipleLines\n",
      "0  5575-GNVDE            No\n",
      "1  3668-QPYBK            No\n",
      "2  9237-HQITU            No\n",
      "3  9305-CDSKC           Yes\n",
      "4  1452-KIOVK           Yes\n"
     ]
    }
   ],
   "source": [
    "print(phone.info())\n",
    "print(phone.head())"
   ]
  },
  {
   "attachments": {},
   "cell_type": "markdown",
   "metadata": {},
   "source": [
    "<p style=\"color:blue\">Only information relevant is that the customer HAS AN PHONE PLAN IN THE FIRST  PLACE. The additional services chosen aren't relevant. This would be reflected in the total monthly price regardless. As more add-ons would result in a higher monthly price.</p>"
   ]
  },
  {
   "cell_type": "code",
   "execution_count": 39,
   "metadata": {},
   "outputs": [
    {
     "name": "stdout",
     "output_type": "stream",
     "text": [
      "      customerID  has_phone\n",
      "0     5575-GNVDE          1\n",
      "1     3668-QPYBK          1\n",
      "2     9237-HQITU          1\n",
      "3     9305-CDSKC          1\n",
      "4     1452-KIOVK          1\n",
      "...          ...        ...\n",
      "6356  2569-WGERO          1\n",
      "6357  6840-RESVB          1\n",
      "6358  2234-XADUH          1\n",
      "6359  8361-LTMKD          1\n",
      "6360  3186-AJIEK          1\n",
      "\n",
      "[6361 rows x 2 columns]\n"
     ]
    }
   ],
   "source": [
    "# Drop all columns except the first one\n",
    "phone = phone.iloc[:, [0]]\n",
    "\n",
    "# Add a new column named \"has_phone\" with a value of 1 for every row\n",
    "phone['has_phone'] = 1\n",
    "\n",
    "print(phone)"
   ]
  },
  {
   "attachments": {},
   "cell_type": "markdown",
   "metadata": {},
   "source": [
    "<H2>Merge</H2>"
   ]
  },
  {
   "cell_type": "code",
   "execution_count": 40,
   "metadata": {},
   "outputs": [
    {
     "name": "stdout",
     "output_type": "stream",
     "text": [
      "<class 'pandas.core.frame.DataFrame'>\n",
      "Int64Index: 7032 entries, 0 to 7042\n",
      "Data columns (total 7 columns):\n",
      " #   Column            Non-Null Count  Dtype  \n",
      "---  ------            --------------  -----  \n",
      " 0   Type              7032 non-null   object \n",
      " 1   MonthlyCharges    7032 non-null   float64\n",
      " 2   TotalCharges      7032 non-null   float64\n",
      " 3   churn             7032 non-null   int64  \n",
      " 4   days_as_a_member  7032 non-null   int64  \n",
      " 5   has_internet      7032 non-null   float64\n",
      " 6   has_phone         7032 non-null   float64\n",
      "dtypes: float64(4), int64(2), object(1)\n",
      "memory usage: 439.5+ KB\n",
      "None\n"
     ]
    }
   ],
   "source": [
    "# Perform a left join on 'customerID' with contract dataframe and internet and phone\n",
    "merged_data = contract.merge(internet, on='customerID', how='left')\n",
    "merged_data_final = merged_data.merge(phone, on='customerID', how='left')\n",
    "\n",
    "# Fill missing values with 0\n",
    "merged_data_final.fillna(0, inplace=True)\n",
    "\n",
    "#drop unnecessary columns. this columns shouldn't have any significance as these are customer choices. We don't need BeginDate or EndDate anymore.\n",
    "merged_data_final = merged_data_final.drop(['customerID','PaperlessBilling', 'PaymentMethod','EndDate','BeginDate'], axis=1)\n",
    "\n",
    "#drop where we have missing values for TotalCharges\n",
    "merged_data_final = merged_data_final[merged_data_final['TotalCharges'] != 0]\n",
    "\n",
    "print(merged_data_final.info())\n"
   ]
  },
  {
   "attachments": {},
   "cell_type": "markdown",
   "metadata": {},
   "source": [
    "<h1>B) Exploratory Data Analysis Part 2</h1><br>\n",
    "<b>Statistics, Data Distribution, and Data Visualization</b>"
   ]
  },
  {
   "cell_type": "code",
   "execution_count": 41,
   "metadata": {},
   "outputs": [
    {
     "name": "stdout",
     "output_type": "stream",
     "text": [
      "       MonthlyCharges  TotalCharges        churn  days_as_a_member  \\\n",
      "count     7032.000000   7032.000000  7032.000000       7032.000000   \n",
      "mean        64.798208   2283.300441     0.265785       1008.031428   \n",
      "std         30.085974   2266.771362     0.441782        736.095040   \n",
      "min         18.250000     18.800000     0.000000         31.000000   \n",
      "25%         35.587500    401.450000     0.000000        306.000000   \n",
      "50%         70.350000   1397.475000     0.000000        883.000000   \n",
      "75%         89.862500   3794.737500     1.000000       1706.000000   \n",
      "max        118.750000   8684.800000     1.000000       2314.000000   \n",
      "\n",
      "       has_internet    has_phone  \n",
      "count   7032.000000  7032.000000  \n",
      "mean       0.783845     0.903299  \n",
      "std        0.411650     0.295571  \n",
      "min        0.000000     0.000000  \n",
      "25%        1.000000     1.000000  \n",
      "50%        1.000000     1.000000  \n",
      "75%        1.000000     1.000000  \n",
      "max        1.000000     1.000000  \n",
      "\n",
      "Percentage with Internet Plan: 0.7838452787258248\n",
      "Percentage with Phone Plan: 0.9032992036405005\n"
     ]
    }
   ],
   "source": [
    "#statistics\n",
    "print(merged_data_final.describe())\n",
    "\n",
    "# Calculate the total number of rows in our DataFrame\n",
    "total_customers = len(merged_data_final)\n",
    "\n",
    "#calculate our many people have an internet plan and phone plan respectively\n",
    "has_internet_count = merged_data_final['has_internet'].sum()\n",
    "has_phone_count = merged_data_final['has_phone'].sum()\n",
    "\n",
    "# Divide the sums by the total number of people to get the percentage\n",
    "has_internet_percent = has_internet_count / total_customers\n",
    "has_phone_percent = has_phone_count / total_customers\n",
    "\n",
    "print()\n",
    "print(\"Percentage with Internet Plan:\", has_internet_percent)\n",
    "print(\"Percentage with Phone Plan:\", has_phone_percent)\n"
   ]
  },
  {
   "cell_type": "code",
   "execution_count": 42,
   "metadata": {},
   "outputs": [
    {
     "name": "stdout",
     "output_type": "stream",
     "text": [
      "\n",
      "Percentage with Internet Plan: 0.7274840209180709\n",
      "Percentage with Phone Plan: 0.9012202208018594\n",
      "\n",
      "       MonthlyCharges  TotalCharges   churn  days_as_a_member  has_internet  \\\n",
      "count     5163.000000   5163.000000  5163.0       5163.000000   5163.000000   \n",
      "mean        61.307408   2555.344141     0.0       1146.885532      0.727484   \n",
      "std         31.094557   2329.456984     0.0        732.773458      0.445297   \n",
      "min         18.250000     18.800000     0.0         31.000000      0.000000   \n",
      "25%         25.100000    577.825000     0.0        457.000000      0.000000   \n",
      "50%         64.450000   1683.600000     0.0       1157.000000      1.000000   \n",
      "75%         88.475000   4264.125000     0.0       1857.000000      1.000000   \n",
      "max        118.750000   8672.450000     0.0       2191.000000      1.000000   \n",
      "\n",
      "         has_phone  \n",
      "count  5163.000000  \n",
      "mean      0.901220  \n",
      "std       0.298395  \n",
      "min       0.000000  \n",
      "25%       1.000000  \n",
      "50%       1.000000  \n",
      "75%       1.000000  \n",
      "max       1.000000  \n"
     ]
    }
   ],
   "source": [
    "# Select rows where the value in the column 'churn' equals 0\n",
    "df_nonchurn = merged_data_final[merged_data_final['churn'] == 0].copy()\n",
    "\n",
    "# Calculate the total number of rows in our new nonchurn dataFrame\n",
    "total_customers_nonchurn = len(df_nonchurn)\n",
    "\n",
    "#calculate our many people whom have chruned and have an internet plan and phone plan respectively\n",
    "has_internet_nonchurn_count = df_nonchurn['has_internet'].sum()\n",
    "has_phone_nonchurn_count = df_nonchurn['has_phone'].sum()\n",
    "\n",
    "# Divide the sums by the total number of people to get the percentage\n",
    "has_internet_nonchurn_percent = has_internet_nonchurn_count / total_customers_nonchurn\n",
    "has_phone_nonchurn_percent = has_phone_nonchurn_count / total_customers_nonchurn\n",
    "\n",
    "print()\n",
    "print(\"Percentage with Internet Plan:\", has_internet_nonchurn_percent)\n",
    "print(\"Percentage with Phone Plan:\", has_phone_nonchurn_percent)\n",
    "print()\n",
    "\n",
    "#statistics\n",
    "print(df_nonchurn.describe())"
   ]
  },
  {
   "cell_type": "code",
   "execution_count": 43,
   "metadata": {},
   "outputs": [
    {
     "name": "stdout",
     "output_type": "stream",
     "text": [
      "\n",
      "Percentage with Internet Plan: 0.9395398608881755\n",
      "Percentage with Phone Plan: 0.9090422685928304\n",
      "\n",
      "       MonthlyCharges  TotalCharges   churn  days_as_a_member  has_internet  \\\n",
      "count     1869.000000   1869.000000  1869.0       1869.000000   1869.000000   \n",
      "mean        74.441332   1531.796094     1.0        624.455324      0.939540   \n",
      "std         24.666053   1890.822994     0.0        595.910567      0.238401   \n",
      "min         18.850000     18.850000     1.0         62.000000      0.000000   \n",
      "25%         56.150000    134.500000     1.0        153.000000      1.000000   \n",
      "50%         79.650000    703.550000     1.0        365.000000      1.000000   \n",
      "75%         94.200000   2331.300000     1.0        945.000000      1.000000   \n",
      "max        118.350000   8684.800000     1.0       2314.000000      1.000000   \n",
      "\n",
      "         has_phone  \n",
      "count  1869.000000  \n",
      "mean      0.909042  \n",
      "std       0.287626  \n",
      "min       0.000000  \n",
      "25%       1.000000  \n",
      "50%       1.000000  \n",
      "75%       1.000000  \n",
      "max       1.000000  \n"
     ]
    }
   ],
   "source": [
    "# Select rows where the value in the column 'churn' equals 1\n",
    "df_churn = merged_data_final[merged_data_final['churn'] == 1].copy()\n",
    "\n",
    "# Calculate the total number of rows in our new chrun dataFrame\n",
    "total_customers_churn = len(df_churn)\n",
    "\n",
    "#calculate our many people whom have chruned and have an internet plan and phone plan respectively\n",
    "has_internet_churn_count = df_churn['has_internet'].sum()\n",
    "has_phone_churn_count = df_churn['has_phone'].sum()\n",
    "\n",
    "# Divide the sums by the total number of people to get the percentage\n",
    "has_internet_churn_percent = has_internet_churn_count / total_customers_churn\n",
    "has_phone_churn_percent = has_phone_churn_count / total_customers_churn\n",
    "\n",
    "print()\n",
    "print(\"Percentage with Internet Plan:\", has_internet_churn_percent)\n",
    "print(\"Percentage with Phone Plan:\", has_phone_churn_percent)\n",
    "print()\n",
    "\n",
    "#statistics\n",
    "print(df_churn.describe())"
   ]
  },
  {
   "attachments": {},
   "cell_type": "markdown",
   "metadata": {},
   "source": [
    "<p style=\"color:blue\">Comparing the statistics between the customers who have not churned (or are loyal) and those who have churned yield very informative information.<br>\n",
    "1) Almost 94% of customers who churned has an internet plan, whereas only 73% of non-churn customers had an internent plan. This shows customers might be leaving because they believe they are paying too much for an internent plan and add-ons.<br>\n",
    "2) The 25% Percentile for Churn Monthly charges are more than double than Non-Churn. The mean is also higher. So once again price is a big factor.<br>\n",
    "3) The length of time as a member is a huge factor. It's clear the longer one has been a customer the least likely they are to leave. ALSO, there is something VERY interesting here. The 50% percentile for churned cusotmers is exactly 365 days or 1 year!!! That can't be a coincendence. I wouldn't be surprised if new customers are given a 1 year promotional deal, and then leave when it's over!</p>"
   ]
  },
  {
   "attachments": {},
   "cell_type": "markdown",
   "metadata": {},
   "source": [
    "<p style=\"color:blue\">Now let's look at visualizations to see how the data is distrubited.</p>"
   ]
  },
  {
   "cell_type": "code",
   "execution_count": 45,
   "metadata": {
    "scrolled": false
   },
   "outputs": [
    {
     "data": {
      "image/png": "[encoded data removed]",
      "text/plain": [
       "<Figure size 576x360 with 1 Axes>"
      ]
     },
     "metadata": {
      "needs_background": "light"
     },
     "output_type": "display_data"
    },
    {
     "data": {
      "image/png": "[encoded data removed]",
      "text/plain": [
       "<Figure size 576x360 with 1 Axes>"
      ]
     },
     "metadata": {
      "needs_background": "light"
     },
     "output_type": "display_data"
    },
    {
     "data": {
      "image/png": "[encoded data removed]",
      "text/plain": [
       "<Figure size 576x360 with 1 Axes>"
      ]
     },
     "metadata": {
      "needs_background": "light"
     },
     "output_type": "display_data"
    },
    {
     "data": {
      "image/png": "[encoded data removed]",
      "text/plain": [
       "<Figure size 432x288 with 1 Axes>"
      ]
     },
     "metadata": {
      "needs_background": "light"
     },
     "output_type": "display_data"
    },
    {
     "data": {
      "image/png": "[encoded data removed]",
      "text/plain": [
       "<Figure size 432x288 with 1 Axes>"
      ]
     },
     "metadata": {
      "needs_background": "light"
     },
     "output_type": "display_data"
    },
    {
     "data": {
      "image/png": "[encoded data removed]",
      "text/plain": [
       "<Figure size 432x288 with 1 Axes>"
      ]
     },
     "metadata": {
      "needs_background": "light"
     },
     "output_type": "display_data"
    }
   ],
   "source": [
    "#Histogram for 'MonthlyCharges'\n",
    "plt.figure(figsize=(8, 5))\n",
    "plt.hist(df_nonchurn['MonthlyCharges'], bins=30, alpha=0.7, color='blue')\n",
    "plt.hist(df_churn['MonthlyCharges'], bins=30, alpha=0.7, color='orange')\n",
    "plt.title('Histogram for MonthlyCharges')\n",
    "plt.xlabel('Monthly Charges')\n",
    "plt.ylabel('Frequency')\n",
    "plt.grid(True)\n",
    "plt.show()\n",
    "\n",
    "#Histogram for 'TotalCharges'\n",
    "plt.figure(figsize=(8, 5))\n",
    "plt.hist(df_nonchurn['TotalCharges'], bins=30, alpha=0.7, color='blue')\n",
    "plt.hist(df_churn['TotalCharges'], bins=30, alpha=0.7, color='orange')\n",
    "plt.title('Histogram for TotalCharges')\n",
    "plt.xlabel('Total Charges')\n",
    "plt.ylabel('Frequency')\n",
    "plt.grid(True)\n",
    "plt.show()\n",
    "\n",
    "#Histogram for 'days_as_a_member'\n",
    "plt.figure(figsize=(8, 5))\n",
    "plt.hist(df_nonchurn['days_as_a_member'], bins=30, alpha=0.7, color='blue')\n",
    "plt.hist(df_churn['days_as_a_member'], bins=30, alpha=0.7, color='orange')\n",
    "plt.title('Histogram for days_as_a_member')\n",
    "plt.xlabel('Days as a Member')\n",
    "plt.ylabel('Frequency')\n",
    "plt.grid(True)\n",
    "plt.show()\n",
    "\n",
    "sns.violinplot(x='churn', y='MonthlyCharges', data=merged_data_final)\n",
    "plt.xlabel('Churn')\n",
    "plt.ylabel('Monthly Charges')\n",
    "plt.title('Violin Plot of Monthly Charges for Non-Churned and Churned Customers')\n",
    "plt.show()\n",
    "\n",
    "sns.violinplot(x='churn', y='TotalCharges', data=merged_data_final)\n",
    "plt.xlabel('Churn')\n",
    "plt.ylabel('Total Charges')\n",
    "plt.title('Violin Plot of Total Charges for Non-Churned and Churned Customers')\n",
    "plt.show()\n",
    "\n",
    "sns.violinplot(x='churn', y='days_as_a_member', data=merged_data_final)\n",
    "plt.xlabel('Churn')\n",
    "plt.ylabel('Days as a Member')\n",
    "plt.title('Box Plot of Days as a Member for Non-Churned and Churned Customers')\n",
    "plt.show()"
   ]
  },
  {
   "attachments": {},
   "cell_type": "markdown",
   "metadata": {},
   "source": [
    "<p style=\"color:blue\">It seems my previous observsations are suppported.<br>\n",
    "1) Customers who stay have lower montly costs. Based on the violin chart for Monthy Charges, most of the churned customers are paying higher monthhly costs.<br>\n",
    "2) The histogram and violin chart for days as a member clearly show that the vast majority of churned customers weren't members for relatively long.</p>"
   ]
  },
  {
   "attachments": {},
   "cell_type": "markdown",
   "metadata": {},
   "source": [
    "<h1>C) Model</h1>"
   ]
  },
  {
   "attachments": {},
   "cell_type": "markdown",
   "metadata": {},
   "source": [
    "<b>Data Transformation</b>"
   ]
  },
  {
   "cell_type": "code",
   "execution_count": 384,
   "metadata": {},
   "outputs": [
    {
     "name": "stdout",
     "output_type": "stream",
     "text": [
      "   MonthlyCharges  TotalCharges  churn  has_internet  has_phone  \\\n",
      "0           29.85         29.85      0           1.0        0.0   \n",
      "1           56.95       1889.50      0           1.0        1.0   \n",
      "2           53.85        108.15      1           1.0        1.0   \n",
      "3           42.30       1840.75      0           1.0        0.0   \n",
      "4           70.70        151.65      1           1.0        1.0   \n",
      "\n",
      "   days_as_a_member  Type_One year  Type_Two year  \n",
      "0                31              0              0  \n",
      "1              1036              1              0  \n",
      "2               123              0              0  \n",
      "3              1371              1              0  \n",
      "4               153              0              0  \n"
     ]
    }
   ],
   "source": [
    "# Perform One-Hot-Encoding on the 'Type' column\n",
    "merged_data_final = pd.get_dummies(merged_data_final, columns=['Type'], drop_first=True)\n",
    "\n",
    "print(merged_data_final.head())\n"
   ]
  },
  {
   "attachments": {},
   "cell_type": "markdown",
   "metadata": {},
   "source": [
    "<b>Model 1 - Logistic Regression</b>"
   ]
  },
  {
   "cell_type": "code",
   "execution_count": 385,
   "metadata": {},
   "outputs": [
    {
     "name": "stdout",
     "output_type": "stream",
     "text": [
      "AUC-ROC Score: 0.8371413636532347\n"
     ]
    }
   ],
   "source": [
    "# Step 1: Split data into features (X) and target (y) dataframes\n",
    "X = merged_data_final.drop(columns=['churn'])\n",
    "y = merged_data_final['churn']\n",
    "\n",
    "# Step 2: Split data into training and validation sets (75% training, 25% validation)\n",
    "X_train, X_val, y_train, y_val = train_test_split(X, y, test_size=0.25, random_state=123)\n",
    "\n",
    "# Step 3: Create and train a Logistic Regression model\n",
    "logreg_model = LogisticRegression(random_state=123)\n",
    "logreg_model.fit(X_train, y_train)\n",
    "\n",
    "# Step 4: Predict the probabilities of the target variable using the validation set\n",
    "y_pred_prob = logreg_model.predict_proba(X_val)[:, 1]  # Probability of positive class (churn = 1)\n",
    "\n",
    "# Step 5: Calculate the AUC-ROC score\n",
    "auc_roc_score = roc_auc_score(y_val, y_pred_prob)\n",
    "\n",
    "print(\"AUC-ROC Score:\", auc_roc_score)\n"
   ]
  },
  {
   "attachments": {},
   "cell_type": "markdown",
   "metadata": {},
   "source": [
    "<b>Model 2 - Gradient Boosting</b>"
   ]
  },
  {
   "cell_type": "code",
   "execution_count": 386,
   "metadata": {},
   "outputs": [
    {
     "name": "stdout",
     "output_type": "stream",
     "text": [
      "AUC-ROC Score: 0.9158650574684202\n"
     ]
    }
   ],
   "source": [
    "# Assuming 'merged_data_final' contains the merged data with features and target\n",
    "features = merged_data_final.drop('churn', axis=1)\n",
    "target = merged_data_final['churn']\n",
    "\n",
    "# Split the data into training and validation sets (75% training, 25% validation)\n",
    "X_train, X_val, y_train, y_val = train_test_split(features, target, test_size=0.25, random_state=123)\n",
    "\n",
    "# Create and train the Gradient Boosting model\n",
    "boost_model = GradientBoostingClassifier(random_state=123)\n",
    "boost_model.fit(X_train, y_train)\n",
    "\n",
    "# Predict the probabilities of the target variable using the validation set\n",
    "y_val_pred_prob = boost_model.predict_proba(X_val)[:, 1]\n",
    "\n",
    "# Calculate the AUC-ROC score for the Gradient Boosting model\n",
    "auc_roc_score = roc_auc_score(y_val, y_val_pred_prob)\n",
    "\n",
    "print(\"AUC-ROC Score:\", auc_roc_score)\n"
   ]
  },
  {
   "attachments": {},
   "cell_type": "markdown",
   "metadata": {},
   "source": [
    "<H1>CONCLUSION</H1>"
   ]
  },
  {
   "attachments": {},
   "cell_type": "markdown",
   "metadata": {},
   "source": [
    "Gradiant Boosting yielded fantastic accuracy! Interconnect should feel comfortable using this model with the features I have chosen. This model should be used on current customers to see who is likely to churn and provide those customers with a promotional deal. I strongly believe that the median length as customer, for those whom churned, should not be ignored! As mentioned, it can't be a coincidence. Perhaps their initial one year contract or promotion ended. A simple 2nd promotion should help, especially those with an internent plan."
   ]
  },
  {
   "cell_type": "code",
   "execution_count": null,
   "metadata": {},
   "outputs": [],
   "source": []
  }
 ],
 "metadata": {
  "kernelspec": {
   "display_name": "Python 3 (ipykernel)",
   "language": "python",
   "name": "python3"
  },
  "language_info": {
   "codemirror_mode": {
    "name": "ipython",
    "version": 3
   },
   "file_extension": ".py",
   "mimetype": "text/x-python",
   "name": "python",
   "nbconvert_exporter": "python",
   "pygments_lexer": "ipython3",
   "version": "3.9.13"
  },
  "toc": {
   "base_numbering": 1,
   "nav_menu": {},
   "number_sections": true,
   "sideBar": true,
   "skip_h1_title": true,
   "title_cell": "Table of Contents",
   "title_sidebar": "Contents",
   "toc_cell": false,
   "toc_position": {},
   "toc_section_display": true,
   "toc_window_display": false
  }
 },
 "nbformat": 4,
 "nbformat_minor": 2
}
